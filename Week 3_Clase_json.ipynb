{
  "cells": [
    {
      "cell_type": "markdown",
      "metadata": {
        "id": "Os12g4Zas4BD"
      },
      "source": [
        "# Creando tablas e insertando datos en SQL\n",
        "### **Ingeniería de datos**\n",
        "**Profesor: Domagoj Vrgoč**\n",
        "\n",
        "### Introducción\n",
        "\n",
        "Durante esta actividad vamos a aprender los conceptos básicos de SQL. Vamos a aprender a definir tablas, e insertar, eliminar y actualizar datos de esta tabla.\n",
        "\n",
        "### Requisitos\n",
        "\n",
        "Para esta actividad, así como en las siguientes actividades de SQL vamos a utilizar *Google colab* (https://colab.research.google.com), que es un entorno virtual permitiendo armar un servidor de bases de datos, y conectarse con este servidor. Para la conexión ocuparemos la herramienta llamada Jupyter Notebooks. Esta herramienta permite conectarse con un servidor SQL de la misma manera cómo hacerlo a través de la consola en un servidor local.\n",
        "\n",
        "El motor de bases de datos que ocuparemos en este curso se llama PostgreSQL, y uno siempre puede instalarlo localmente en su computador. Idea de ocupar Google colab es saltarse este paso, y no tener problemas con instalar, habilitar, o correr un motor de bases de datos.\n",
        "\n",
        "Por lo tanto, para una actividad de SQL, en este curso siempre ocuparemos Jupyter Notebooks con Google colab. Para esto, se les entregará un archivo con extensión .ipynb, cual hay que subir a la plataforma Google Colab. Al inicio del tutorial mostraremos cómo funciona este proceso.\n",
        "\n",
        "### Outline\n",
        "\n",
        "En esta actividad aprenderemos a:\n",
        "\n",
        "- Habilitar un servidor de PostgreSQL en Google colab con un Jupyter notebook.\n",
        "- Definir esquema de una tabla relacional.\n",
        "- Insertar datos.\n",
        "- Crear llaves en las tablas.\n",
        "\n",
        "### Esquema\n",
        "\n",
        "Para esta actividad vamos a trabajar con el siguiente esquema:\n",
        "\n",
        "- `Peliculas(pid, pnombre, paño, pcategoria, pcalificacion, pdirector)`\n",
        "\n",
        "- `Actores(aid, anombre, aedad)`\n",
        "\n",
        "- `actuo_en(aid, pid, rol)`\n",
        "\n",
        "Que corresponde a películas, actores, y la información de los roles interpretados por una actor en una película.\n",
        "\n",
        "Las llaves en nuestro caso son:\n",
        "1. `pid`, para `Peliculas`\n",
        "2. `aid` para `Actores`\n",
        "3. `(aid,pid,rol)` para `actuo_en`."
      ]
    },
    {
      "cell_type": "markdown",
      "metadata": {
        "id": "mJhvB6to1wAs"
      },
      "source": [
        "## Tutorial"
      ]
    },
    {
      "cell_type": "markdown",
      "metadata": {
        "id": "bCL5WNkeKdZy"
      },
      "source": [
        "Lo primero que hay que hacer es subir este notebook a https://colab.research.google.com"
      ]
    },
    {
      "cell_type": "markdown",
      "metadata": {
        "id": "zIDNR35Vs4BH"
      },
      "source": [
        "### Iniciar el servidor\n",
        "\n",
        "Para iniciar el servidor virtual, *instalar* la base de datos postgres debe correr el siguiente bloque:"
      ]
    },
    {
      "cell_type": "code",
      "execution_count": 3,
      "metadata": {
        "id": "IOpVhaGMs4BI"
      },
      "outputs": [
        {
          "name": "stderr",
          "output_type": "stream",
          "text": [
            "'apt' is not recognized as an internal or external command,\n",
            "operable program or batch file.\n",
            "The syntax of the command is incorrect.\n",
            "'service' is not recognized as an internal or external command,\n",
            "operable program or batch file.\n",
            "'sudo' is not recognized as an internal or external command,\n",
            "operable program or batch file.\n"
          ]
        },
        {
          "ename": "ModuleNotFoundError",
          "evalue": "No module named 'sql'",
          "output_type": "error",
          "traceback": [
            "\u001b[1;31m---------------------------------------------------------------------------\u001b[0m",
            "\u001b[1;31mModuleNotFoundError\u001b[0m                       Traceback (most recent call last)",
            "Cell \u001b[1;32mIn[3], line 7\u001b[0m\n\u001b[0;32m      5\u001b[0m get_ipython()\u001b[38;5;241m.\u001b[39msystem(\u001b[38;5;124m'\u001b[39m\u001b[38;5;124msudo -u postgres psql -c \u001b[39m\u001b[38;5;124m\"\u001b[39m\u001b[38;5;124mCREATE USER root WITH SUPERUSER\u001b[39m\u001b[38;5;124m\"\u001b[39m\u001b[38;5;124m'\u001b[39m)\n\u001b[0;32m      6\u001b[0m \u001b[38;5;66;03m# set connection\u001b[39;00m\n\u001b[1;32m----> 7\u001b[0m \u001b[43mget_ipython\u001b[49m\u001b[43m(\u001b[49m\u001b[43m)\u001b[49m\u001b[38;5;241;43m.\u001b[39;49m\u001b[43mrun_line_magic\u001b[49m\u001b[43m(\u001b[49m\u001b[38;5;124;43m'\u001b[39;49m\u001b[38;5;124;43mload_ext\u001b[39;49m\u001b[38;5;124;43m'\u001b[39;49m\u001b[43m,\u001b[49m\u001b[43m \u001b[49m\u001b[38;5;124;43m'\u001b[39;49m\u001b[38;5;124;43msql\u001b[39;49m\u001b[38;5;124;43m'\u001b[39;49m\u001b[43m)\u001b[49m\n\u001b[0;32m      8\u001b[0m get_ipython()\u001b[38;5;241m.\u001b[39mrun_line_magic(\u001b[38;5;124m'\u001b[39m\u001b[38;5;124mconfig\u001b[39m\u001b[38;5;124m'\u001b[39m, \u001b[38;5;124m'\u001b[39m\u001b[38;5;124mSqlMagic.feedback=False\u001b[39m\u001b[38;5;124m'\u001b[39m)\n\u001b[0;32m      9\u001b[0m get_ipython()\u001b[38;5;241m.\u001b[39mrun_line_magic(\u001b[38;5;124m'\u001b[39m\u001b[38;5;124mconfig\u001b[39m\u001b[38;5;124m'\u001b[39m, \u001b[38;5;124m'\u001b[39m\u001b[38;5;124mSqlMagic.autopandas=True\u001b[39m\u001b[38;5;124m'\u001b[39m)\n",
            "File \u001b[1;32mc:\\Users\\jorge\\AppData\\Local\\Programs\\Python\\Python312\\Lib\\site-packages\\IPython\\core\\interactiveshell.py:2480\u001b[0m, in \u001b[0;36mInteractiveShell.run_line_magic\u001b[1;34m(self, magic_name, line, _stack_depth)\u001b[0m\n\u001b[0;32m   2478\u001b[0m     kwargs[\u001b[38;5;124m'\u001b[39m\u001b[38;5;124mlocal_ns\u001b[39m\u001b[38;5;124m'\u001b[39m] \u001b[38;5;241m=\u001b[39m \u001b[38;5;28mself\u001b[39m\u001b[38;5;241m.\u001b[39mget_local_scope(stack_depth)\n\u001b[0;32m   2479\u001b[0m \u001b[38;5;28;01mwith\u001b[39;00m \u001b[38;5;28mself\u001b[39m\u001b[38;5;241m.\u001b[39mbuiltin_trap:\n\u001b[1;32m-> 2480\u001b[0m     result \u001b[38;5;241m=\u001b[39m \u001b[43mfn\u001b[49m\u001b[43m(\u001b[49m\u001b[38;5;241;43m*\u001b[39;49m\u001b[43margs\u001b[49m\u001b[43m,\u001b[49m\u001b[43m \u001b[49m\u001b[38;5;241;43m*\u001b[39;49m\u001b[38;5;241;43m*\u001b[39;49m\u001b[43mkwargs\u001b[49m\u001b[43m)\u001b[49m\n\u001b[0;32m   2482\u001b[0m \u001b[38;5;66;03m# The code below prevents the output from being displayed\u001b[39;00m\n\u001b[0;32m   2483\u001b[0m \u001b[38;5;66;03m# when using magics with decorator @output_can_be_silenced\u001b[39;00m\n\u001b[0;32m   2484\u001b[0m \u001b[38;5;66;03m# when the last Python token in the expression is a ';'.\u001b[39;00m\n\u001b[0;32m   2485\u001b[0m \u001b[38;5;28;01mif\u001b[39;00m \u001b[38;5;28mgetattr\u001b[39m(fn, magic\u001b[38;5;241m.\u001b[39mMAGIC_OUTPUT_CAN_BE_SILENCED, \u001b[38;5;28;01mFalse\u001b[39;00m):\n",
            "File \u001b[1;32mc:\\Users\\jorge\\AppData\\Local\\Programs\\Python\\Python312\\Lib\\site-packages\\IPython\\core\\magics\\extension.py:33\u001b[0m, in \u001b[0;36mExtensionMagics.load_ext\u001b[1;34m(self, module_str)\u001b[0m\n\u001b[0;32m     31\u001b[0m \u001b[38;5;28;01mif\u001b[39;00m \u001b[38;5;129;01mnot\u001b[39;00m module_str:\n\u001b[0;32m     32\u001b[0m     \u001b[38;5;28;01mraise\u001b[39;00m UsageError(\u001b[38;5;124m'\u001b[39m\u001b[38;5;124mMissing module name.\u001b[39m\u001b[38;5;124m'\u001b[39m)\n\u001b[1;32m---> 33\u001b[0m res \u001b[38;5;241m=\u001b[39m \u001b[38;5;28;43mself\u001b[39;49m\u001b[38;5;241;43m.\u001b[39;49m\u001b[43mshell\u001b[49m\u001b[38;5;241;43m.\u001b[39;49m\u001b[43mextension_manager\u001b[49m\u001b[38;5;241;43m.\u001b[39;49m\u001b[43mload_extension\u001b[49m\u001b[43m(\u001b[49m\u001b[43mmodule_str\u001b[49m\u001b[43m)\u001b[49m\n\u001b[0;32m     35\u001b[0m \u001b[38;5;28;01mif\u001b[39;00m res \u001b[38;5;241m==\u001b[39m \u001b[38;5;124m'\u001b[39m\u001b[38;5;124malready loaded\u001b[39m\u001b[38;5;124m'\u001b[39m:\n\u001b[0;32m     36\u001b[0m     \u001b[38;5;28mprint\u001b[39m(\u001b[38;5;124m\"\u001b[39m\u001b[38;5;124mThe \u001b[39m\u001b[38;5;132;01m%s\u001b[39;00m\u001b[38;5;124m extension is already loaded. To reload it, use:\u001b[39m\u001b[38;5;124m\"\u001b[39m \u001b[38;5;241m%\u001b[39m module_str)\n",
            "File \u001b[1;32mc:\\Users\\jorge\\AppData\\Local\\Programs\\Python\\Python312\\Lib\\site-packages\\IPython\\core\\extensions.py:62\u001b[0m, in \u001b[0;36mExtensionManager.load_extension\u001b[1;34m(self, module_str)\u001b[0m\n\u001b[0;32m     55\u001b[0m \u001b[38;5;250m\u001b[39m\u001b[38;5;124;03m\"\"\"Load an IPython extension by its module name.\u001b[39;00m\n\u001b[0;32m     56\u001b[0m \n\u001b[0;32m     57\u001b[0m \u001b[38;5;124;03mReturns the string \"already loaded\" if the extension is already loaded,\u001b[39;00m\n\u001b[0;32m     58\u001b[0m \u001b[38;5;124;03m\"no load function\" if the module doesn't have a load_ipython_extension\u001b[39;00m\n\u001b[0;32m     59\u001b[0m \u001b[38;5;124;03mfunction, or None if it succeeded.\u001b[39;00m\n\u001b[0;32m     60\u001b[0m \u001b[38;5;124;03m\"\"\"\u001b[39;00m\n\u001b[0;32m     61\u001b[0m \u001b[38;5;28;01mtry\u001b[39;00m:\n\u001b[1;32m---> 62\u001b[0m     \u001b[38;5;28;01mreturn\u001b[39;00m \u001b[38;5;28;43mself\u001b[39;49m\u001b[38;5;241;43m.\u001b[39;49m\u001b[43m_load_extension\u001b[49m\u001b[43m(\u001b[49m\u001b[43mmodule_str\u001b[49m\u001b[43m)\u001b[49m\n\u001b[0;32m     63\u001b[0m \u001b[38;5;28;01mexcept\u001b[39;00m \u001b[38;5;167;01mModuleNotFoundError\u001b[39;00m:\n\u001b[0;32m     64\u001b[0m     \u001b[38;5;28;01mif\u001b[39;00m module_str \u001b[38;5;129;01min\u001b[39;00m BUILTINS_EXTS:\n",
            "File \u001b[1;32mc:\\Users\\jorge\\AppData\\Local\\Programs\\Python\\Python312\\Lib\\site-packages\\IPython\\core\\extensions.py:77\u001b[0m, in \u001b[0;36mExtensionManager._load_extension\u001b[1;34m(self, module_str)\u001b[0m\n\u001b[0;32m     75\u001b[0m \u001b[38;5;28;01mwith\u001b[39;00m \u001b[38;5;28mself\u001b[39m\u001b[38;5;241m.\u001b[39mshell\u001b[38;5;241m.\u001b[39mbuiltin_trap:\n\u001b[0;32m     76\u001b[0m     \u001b[38;5;28;01mif\u001b[39;00m module_str \u001b[38;5;129;01mnot\u001b[39;00m \u001b[38;5;129;01min\u001b[39;00m sys\u001b[38;5;241m.\u001b[39mmodules:\n\u001b[1;32m---> 77\u001b[0m         mod \u001b[38;5;241m=\u001b[39m \u001b[43mimport_module\u001b[49m\u001b[43m(\u001b[49m\u001b[43mmodule_str\u001b[49m\u001b[43m)\u001b[49m\n\u001b[0;32m     78\u001b[0m     mod \u001b[38;5;241m=\u001b[39m sys\u001b[38;5;241m.\u001b[39mmodules[module_str]\n\u001b[0;32m     79\u001b[0m     \u001b[38;5;28;01mif\u001b[39;00m \u001b[38;5;28mself\u001b[39m\u001b[38;5;241m.\u001b[39m_call_load_ipython_extension(mod):\n",
            "File \u001b[1;32mc:\\Users\\jorge\\AppData\\Local\\Programs\\Python\\Python312\\Lib\\importlib\\__init__.py:90\u001b[0m, in \u001b[0;36mimport_module\u001b[1;34m(name, package)\u001b[0m\n\u001b[0;32m     88\u001b[0m             \u001b[38;5;28;01mbreak\u001b[39;00m\n\u001b[0;32m     89\u001b[0m         level \u001b[38;5;241m+\u001b[39m\u001b[38;5;241m=\u001b[39m \u001b[38;5;241m1\u001b[39m\n\u001b[1;32m---> 90\u001b[0m \u001b[38;5;28;01mreturn\u001b[39;00m \u001b[43m_bootstrap\u001b[49m\u001b[38;5;241;43m.\u001b[39;49m\u001b[43m_gcd_import\u001b[49m\u001b[43m(\u001b[49m\u001b[43mname\u001b[49m\u001b[43m[\u001b[49m\u001b[43mlevel\u001b[49m\u001b[43m:\u001b[49m\u001b[43m]\u001b[49m\u001b[43m,\u001b[49m\u001b[43m \u001b[49m\u001b[43mpackage\u001b[49m\u001b[43m,\u001b[49m\u001b[43m \u001b[49m\u001b[43mlevel\u001b[49m\u001b[43m)\u001b[49m\n",
            "File \u001b[1;32m<frozen importlib._bootstrap>:1387\u001b[0m, in \u001b[0;36m_gcd_import\u001b[1;34m(name, package, level)\u001b[0m\n",
            "File \u001b[1;32m<frozen importlib._bootstrap>:1360\u001b[0m, in \u001b[0;36m_find_and_load\u001b[1;34m(name, import_)\u001b[0m\n",
            "File \u001b[1;32m<frozen importlib._bootstrap>:1324\u001b[0m, in \u001b[0;36m_find_and_load_unlocked\u001b[1;34m(name, import_)\u001b[0m\n",
            "\u001b[1;31mModuleNotFoundError\u001b[0m: No module named 'sql'"
          ]
        }
      ],
      "source": [
        "# install\n",
        "!apt update\n",
        "!apt install postgresql postgresql-contrib &>log\n",
        "!service postgresql start\n",
        "!sudo -u postgres psql -c \"CREATE USER root WITH SUPERUSER\"\n",
        "# set connection\n",
        "%load_ext sql\n",
        "%config SqlMagic.feedback=False\n",
        "%config SqlMagic.autopandas=True\n",
        "%sql postgresql+psycopg2://@/postgres\n"
      ]
    },
    {
      "cell_type": "markdown",
      "metadata": {
        "id": "NM8hPxHcLCY9"
      },
      "source": [
        "### DDL vs. DML\n",
        "\n",
        "Acuerdense que:\n",
        "\n",
        "\n",
        "*   DDL: Lenguaje de definición de datos\n",
        " * Crear y modificar tablas, atributos y llaves\n",
        "*   DML: Lenguaje de manipulación de datos\n",
        " * Consultar una o más tablas\n",
        " * Insertar, eliminar, modificar tuplas\n",
        "\n",
        "\n",
        "Típicamente ocupados juntos.\n"
      ]
    },
    {
      "cell_type": "markdown",
      "metadata": {
        "id": "suz1kFaEMEss"
      },
      "source": [
        "### Definiendo un esquema\n",
        "\n",
        "En esta clase queremos crear una base de datos con el siguiente esquema:\n",
        "\n",
        "- `Peliculas(pid, pnombre, paño, pcategoria, pcalificacion, pdirector)`\n",
        "\n",
        "- `Actores(aid, anombre, aedad)`\n",
        "\n",
        "- `actuo_en(aid, pid, rol)`\n",
        "\n",
        "Para esto, primero necesitamos conocer el tipo de datos que guardará cada atributo de nuestras relaciones.\n",
        "\n",
        "Al crear las tablas disponemos varios tipos de datos. Por ahora destacamos los siguientes:\n",
        "\n",
        "- Caracteres (_Strings_):\n",
        "  - `CHAR(20)`: _Strings_ de largo fijo.\n",
        "  - `VARCHAR(20)`: _Strings_ de largo variable.\n",
        "  \n",
        "- Números:\n",
        "  - `INT`\n",
        "  - `FLOAT`\n",
        "  - `SMALLINT`\n",
        "  \n",
        "- Tiempos y fechas:\n",
        "  - `DATE`: fecha.\n",
        "  - `TIME`: hora.\n",
        "  - `TIMESTAMP`: fecha y hora.\n"
      ]
    },
    {
      "cell_type": "markdown",
      "metadata": {
        "id": "k-8kWcPuMlmk"
      },
      "source": [
        "Para definir nuestro esquema hay que ejecutar el siguiente comando SQL:"
      ]
    },
    {
      "cell_type": "code",
      "execution_count": 2,
      "metadata": {
        "id": "k-rEsdc6NIdL"
      },
      "outputs": [
        {
          "name": "stderr",
          "output_type": "stream",
          "text": [
            "UsageError: Cell magic `%%sql` not found.\n"
          ]
        }
      ],
      "source": [
        "%%sql\n",
        "\n",
        "CREATE TABLE Peliculas(\n",
        "    pid int,\n",
        "    pnombre varchar(30),\n",
        "    paño int,\n",
        "    pcategoria varchar(30),\n",
        "    pcalificacion float,\n",
        "    pdirector varchar(30)\n",
        ");\n"
      ]
    },
    {
      "cell_type": "markdown",
      "metadata": {
        "id": "tKsL_JENs4BK"
      },
      "source": [
        "**Ojo**: cada vez que anteponemos `%sql` es porque esa línea corresponde a un comando a SQL que va a la base de datos en la que estamos trabajando. Si queremos tener todo un bloque con instrucciones SQL tenemos que usar `%%sql` (habrán ejemplos de esto a lo largo del *notebook*).\n",
        "\n",
        "En este momento, nuestro servidor cuenta con la tabla Peliculas definida arriba. Si intentamos crear la tabla de nuevo, recibiremos un error."
      ]
    },
    {
      "cell_type": "code",
      "execution_count": null,
      "metadata": {
        "id": "zmA1zvNCNwkq"
      },
      "outputs": [],
      "source": [
        "%%sql\n",
        "\n",
        "CREATE TABLE Peliculas(\n",
        "    pid int,\n",
        "    pnombre varchar(30),\n",
        "    paño int,\n",
        "    pcategoria varchar(30),\n",
        "    pcalificacion float,\n",
        "    pdirector varchar(30)\n",
        ");"
      ]
    },
    {
      "cell_type": "markdown",
      "metadata": {
        "id": "RL9R8RuaN0IW"
      },
      "source": [
        "Si queremos asegurarnos que no crearemos una tabla de nuevo, siempre podemos validar esto ocupando el siguiente comando:"
      ]
    },
    {
      "cell_type": "code",
      "execution_count": null,
      "metadata": {
        "id": "YdDZt6IrN9_P"
      },
      "outputs": [],
      "source": [
        "%%sql\n",
        "\n",
        "CREATE TABLE IF NOT EXISTS Peliculas(\n",
        "    pid int,\n",
        "    pnombre varchar(30),\n",
        "    paño int,\n",
        "    pcategoria varchar(30),\n",
        "    pcalificacion float,\n",
        "    pdirector varchar(30)\n",
        ");"
      ]
    },
    {
      "cell_type": "markdown",
      "metadata": {
        "id": "SPu8t4ifQ_mP"
      },
      "source": [
        "Podemos crear las otras dos tablas:\n",
        "\n",
        "\n",
        "- `Actores(aid, anombre, aedad)`\n",
        "\n",
        "- `actuo_en(aid, pid, rol)`\n",
        "\n"
      ]
    },
    {
      "cell_type": "code",
      "execution_count": null,
      "metadata": {
        "id": "BBAe8QAYQ-qV"
      },
      "outputs": [],
      "source": [
        "%%sql\n",
        "\n",
        "CREATE TABLE Actores(\n",
        "    aid int,\n",
        "    anombre varchar(30),\n",
        "    aedad int\n",
        ");\n",
        "\n",
        "CREATE TABLE Actuo_en(\n",
        "    aid int,\n",
        "    pid int,\n",
        "    rol varchar(30)\n",
        ");\n"
      ]
    },
    {
      "cell_type": "markdown",
      "metadata": {
        "id": "cS2xD5cFs4BQ"
      },
      "source": [
        "### Insertar datos en la tabla\n",
        "\n",
        "Para revisar el contenido de una tabla, podemos correr la consulta `SELECT * FROM NombreTabla` (más de esto en la siguiente clase).\n",
        "\n",
        "Si ejecutamos la consulta `SELECT * FROM Peliculas` notaremos que el resultado es vacío. Esto ocurre porque todavía no hemos insertado ningun dato a la tabla."
      ]
    },
    {
      "cell_type": "code",
      "execution_count": null,
      "metadata": {
        "id": "Sgr31Wk0s4BQ"
      },
      "outputs": [],
      "source": [
        "%sql SELECT * FROM Peliculas;"
      ]
    },
    {
      "cell_type": "markdown",
      "metadata": {
        "id": "qze4HY3ks4BR"
      },
      "source": [
        "Para insertar valores, la forma básica es la siguiente:\n",
        "\n",
        "```SQL\n",
        "INSERT INTO <Nombre Tabla>\n",
        "VALUES (<valor atributo 1> , ..., <valor atributo N>)\n",
        "```\n",
        "\n",
        "Por ejemplo si ejecutamos la consulta:\n",
        "\n",
        "```SQL\n",
        "INSERT INTO Peliculas\n",
        "VALUES(321351, 'V for Vendetta', 2005,'Action', 8.2 ,'James McTeigue')\n",
        "```\n",
        "\n",
        "estamos insertando una Pelicula con `pid` 321351, `pnombre` V for Vendetta, etc."
      ]
    },
    {
      "cell_type": "code",
      "execution_count": null,
      "metadata": {
        "id": "gdaRSm-is4BR"
      },
      "outputs": [],
      "source": [
        "%sql INSERT INTO Peliculas VALUES(321351, 'V for Vendetta', 2005,'Action', 8.2 ,'James McTeigue')"
      ]
    },
    {
      "cell_type": "markdown",
      "metadata": {
        "id": "gtcceA87GLd7"
      },
      "source": [
        "Al revisar el contenido de la tabla de nuevo, ahora tenemos:"
      ]
    },
    {
      "cell_type": "code",
      "execution_count": null,
      "metadata": {
        "id": "RXTIQ-RhGPAQ"
      },
      "outputs": [],
      "source": [
        "%sql SELECT * FROM Peliculas;"
      ]
    },
    {
      "cell_type": "markdown",
      "metadata": {
        "id": "sTZNUkJbGc-V"
      },
      "source": [
        "Siguiendo con este proceso:"
      ]
    },
    {
      "cell_type": "code",
      "execution_count": null,
      "metadata": {
        "id": "NPM8wOOBGfHg"
      },
      "outputs": [],
      "source": [
        "%%sql\n",
        "\n",
        "INSERT INTO Peliculas VALUES(321352, 'Batman', 2005,'Action', 8.2 ,'C. Nolan');\n",
        "\n",
        "SELECT * FROM Peliculas;"
      ]
    },
    {
      "cell_type": "markdown",
      "metadata": {
        "id": "zxTC6Z3kG44N"
      },
      "source": [
        "Notense que nada prohibe insertar la película Batman con el mismo pid cómo V for Vendetta."
      ]
    },
    {
      "cell_type": "code",
      "execution_count": null,
      "metadata": {
        "id": "VoEF8InGHF9f"
      },
      "outputs": [],
      "source": [
        "%%sql\n",
        "\n",
        "INSERT INTO Peliculas VALUES(321351, 'Batman', 2005,'Action', 8.2 ,'C. Nolan');\n",
        "\n",
        "SELECT * FROM Peliculas;"
      ]
    },
    {
      "cell_type": "markdown",
      "metadata": {
        "id": "1E7MGIMeHKYp"
      },
      "source": [
        "Esto ocurre porque no hemos especificado `pid` como la llave primaria de nuestra tabla. Para especificar las llaves primarias al crear un esqeuma hacemos lo siguiente."
      ]
    },
    {
      "cell_type": "code",
      "execution_count": null,
      "metadata": {
        "id": "PlvIK3t2HZTD"
      },
      "outputs": [],
      "source": [
        "%%sql\n",
        "\n",
        "DROP TABLE IF EXISTS Peliculas;\n",
        "DROP TABLE IF EXISTS Actores;\n",
        "DROP TABLE IF EXISTS Actuo_En;\n",
        "\n",
        "CREATE TABLE IF NOT EXISTS Peliculas(\n",
        "    pid int PRIMARY KEY,\n",
        "    pnombre varchar(30),\n",
        "    paño int,\n",
        "    pcategoria varchar(30),\n",
        "    pcalificacion float,\n",
        "    pdirector varchar(30)\n",
        ");\n",
        "\n",
        "CREATE TABLE Actores(\n",
        "    aid int PRIMARY KEY,\n",
        "    anombre varchar(30),\n",
        "    aedad int\n",
        ");\n",
        "\n",
        "CREATE TABLE Actuo_en(\n",
        "    aid int,\n",
        "    pid int,\n",
        "    rol varchar(30),\n",
        "    PRIMARY KEY (aid,pid,rol)\n",
        ");"
      ]
    },
    {
      "cell_type": "markdown",
      "metadata": {
        "id": "h3PSySVQIOeN"
      },
      "source": [
        "Ahora no podemos hacer el mismo error de antes:"
      ]
    },
    {
      "cell_type": "code",
      "execution_count": null,
      "metadata": {
        "id": "QngoKZHnIR4z"
      },
      "outputs": [],
      "source": [
        "%%sql\n",
        "\n",
        "INSERT INTO Peliculas VALUES(321351, 'V for Vendetta', 2005,'Action', 8.2 ,'James McTeigue');\n",
        "INSERT INTO Peliculas VALUES(321352, 'Batman', 2005,'Action', 8.2 ,'C. Nolan');\n",
        "\n",
        "SELECT * FROM Peliculas;"
      ]
    },
    {
      "cell_type": "code",
      "execution_count": null,
      "metadata": {
        "id": "A0YC7E_XIdAq"
      },
      "outputs": [],
      "source": [
        "%%sql\n",
        "\n",
        "INTO Peliculas VALUES(321351, 'Batman', 2005,'Action', 8.2 ,'C. Nolan');"
      ]
    },
    {
      "cell_type": "markdown",
      "metadata": {
        "id": "FIECP53JI8rh"
      },
      "source": [
        "### Valores default\n",
        "\n",
        "Muchas veces no sabemos el valor de un atributo al crear la tabla, y por lo tanto lo queremos dejar con una valor por defecto. Por ejemplo, en la tabla `Peliculas`, el valor de la calificación quizás no conocemos al estrenar la película, y lo conseguimos después. Para esto podemos en la definición de nuestro esquema poner el valor default de este atributo en 0. Adicionalmente, podemos especificar, por ejemplo, que si no conocemos la categoría de la película, lo dejamos cómo Drama. Lo podemos hacer en SQL así:"
      ]
    },
    {
      "cell_type": "code",
      "execution_count": null,
      "metadata": {
        "id": "XfSuB5YUJlvz"
      },
      "outputs": [],
      "source": [
        "%%sql\n",
        "\n",
        "DROP TABLE IF EXISTS Peliculas;\n",
        "\n",
        "CREATE TABLE Peliculas(\n",
        "    pid int PRIMARY KEY,\n",
        "    pnombre varchar(30),\n",
        "    paño int,\n",
        "    pcategoria varchar(30) DEFAULT 'Drama',\n",
        "    pcalificacion float DEFAULT 0,\n",
        "    pdirector varchar(30)\n",
        ");"
      ]
    },
    {
      "cell_type": "markdown",
      "metadata": {
        "id": "bTUGxnC5KCGT"
      },
      "source": [
        "Para insertar los datos con algunos campos faltante, necesitamos nombrar los atributos:"
      ]
    },
    {
      "cell_type": "code",
      "execution_count": null,
      "metadata": {
        "id": "m9YZZaSSKGwN"
      },
      "outputs": [],
      "source": [
        "%%sql\n",
        "\n",
        "INSERT INTO Peliculas(pid,pnombre,paño,pdirector) VALUES(321351, 'V for Vendetta', 2005,'James McTeigue');\n",
        "\n",
        "SELECT * FROM Peliculas;"
      ]
    },
    {
      "cell_type": "markdown",
      "metadata": {
        "id": "-akLLD7AKZ1X"
      },
      "source": [
        "Podemos omitir solo algunos atributos que tienen el valor default:"
      ]
    },
    {
      "cell_type": "code",
      "execution_count": null,
      "metadata": {
        "id": "yZDW8TONKeFx"
      },
      "outputs": [],
      "source": [
        "%%sql\n",
        "\n",
        "INSERT INTO Peliculas(pid,pnombre,paño,pcalificacion,pdirector) VALUES(22, 'Batman', 2008,8.5,'C.Nolan');\n",
        "\n",
        "SELECT * FROM Peliculas;"
      ]
    },
    {
      "cell_type": "markdown",
      "metadata": {
        "id": "mm79BNVrL4hc"
      },
      "source": [
        "### Resumen\n",
        "\n",
        "En este tutorial aprendimos cómo definir un esquema relacional en el motor SQL Postgres, y cómo llenar las tablas con datos. En próximas clases aprenderemos cómo consultar a nuestra base de datos."
      ]
    },
    {
      "cell_type": "markdown",
      "metadata": {
        "id": "FLlQekSDsBaY"
      },
      "source": [
        "#Materia adicional"
      ]
    },
    {
      "cell_type": "markdown",
      "metadata": {
        "id": "SVG55N7bs4BW"
      },
      "source": [
        "### Modificando tablas\n",
        "\n",
        "En SQL es posible modificar tablas. Por ejemplo si quisieramos eliminar el atributo `pdirector` de la tabla `Peliculas`, podríamos ejecutar la consulta:"
      ]
    },
    {
      "cell_type": "code",
      "execution_count": null,
      "metadata": {
        "id": "5TqwIyPgLB3X"
      },
      "outputs": [],
      "source": [
        "%%sql\n",
        "\n",
        "ALTER TABLE Peliculas DROP COLUMN pdirector;\n",
        "\n",
        "SELECT * FROM Peliculas;\n",
        "\n"
      ]
    },
    {
      "cell_type": "markdown",
      "metadata": {
        "id": "zp1IZljuLKhq"
      },
      "source": [
        "Similarmente, si al definir el esquema nos olvidamos de un atributo, lo podemos agregar (incluso con un valor por defecto):"
      ]
    },
    {
      "cell_type": "code",
      "execution_count": null,
      "metadata": {
        "id": "ennBzOR8LRdd"
      },
      "outputs": [],
      "source": [
        "%%sql\n",
        "\n",
        "ALTER TABLE Peliculas ADD COLUMN productor varchar(30) DEFAULT 'Warner Bros';\n",
        "\n",
        "SELECT * FROM Peliculas;"
      ]
    },
    {
      "cell_type": "code",
      "execution_count": null,
      "metadata": {
        "id": "zkARuFT7LjU-"
      },
      "outputs": [],
      "source": [
        "%%sql\n",
        "\n",
        "ALTER TABLE Peliculas ADD COLUMN director varchar(30);\n",
        "\n",
        "SELECT * FROM Peliculas;"
      ]
    },
    {
      "cell_type": "markdown",
      "metadata": {
        "id": "CwiDUZYJLq8K"
      },
      "source": [
        "Finalmente, para borrar una tabla, ocupamos:"
      ]
    },
    {
      "cell_type": "code",
      "execution_count": null,
      "metadata": {
        "id": "79Z7tkRoLtkh"
      },
      "outputs": [],
      "source": [
        "%%sql\n",
        "\n",
        "DROP TABLE Peliculas;"
      ]
    },
    {
      "cell_type": "markdown",
      "metadata": {
        "id": "PujUNBMKLwqc"
      },
      "source": [
        "Al consultar esta tabla ahora, recibimos un error:"
      ]
    },
    {
      "cell_type": "code",
      "execution_count": null,
      "metadata": {
        "id": "mTAM8CswL0ID"
      },
      "outputs": [],
      "source": [
        "%%sql\n",
        "\n",
        "SELECT * FROM Peliculas;"
      ]
    }
  ],
  "metadata": {
    "colab": {
      "provenance": [],
      "toc_visible": true
    },
    "kernelspec": {
      "display_name": "Python 3",
      "language": "python",
      "name": "python3"
    },
    "language_info": {
      "codemirror_mode": {
        "name": "ipython",
        "version": 3
      },
      "file_extension": ".py",
      "mimetype": "text/x-python",
      "name": "python",
      "nbconvert_exporter": "python",
      "pygments_lexer": "ipython3",
      "version": "3.12.5"
    }
  },
  "nbformat": 4,
  "nbformat_minor": 0
}
